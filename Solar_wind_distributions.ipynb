{
 "cells": [
  {
   "cell_type": "markdown",
   "metadata": {},
   "source": [
    "# Generating a Solar Wind Population Distribution"
   ]
  },
  {
   "cell_type": "code",
   "execution_count": 1,
   "metadata": {},
   "outputs": [],
   "source": [
    "%matplotlib inline"
   ]
  },
  {
   "cell_type": "code",
   "execution_count": 2,
   "metadata": {},
   "outputs": [],
   "source": [
    "# Import packages\n",
    "import matplotlib\n",
    "#matplotlib.rc('text', usetex=True)\n",
    "import matplotlib.pyplot as plt\n",
    "import matplotlib.image\n",
    "import seaborn as sb\n",
    "import numpy as np\n",
    "import scipy.stats as stats\n",
    "import scipy.constants as consts\n",
    "import scipy.ndimage\n",
    "import scipy"
   ]
  },
  {
   "cell_type": "markdown",
   "metadata": {},
   "source": [
    "## Velocity distribution functions (VDFs)\n",
    "\n",
    "$$ f = f_{c} + f_{h} + f_{s} $$\n",
    "\n",
    "Where $f_{c}$ is the bi-Maxwellian function for the core, $f_{h}$ is the bi-kappa function for the halo and $f_{s}$ is the analytical bi-kappa formula for the strahl.\n",
    "\n",
    "Equations for the above distributions can be found in https://agupubs.onlinelibrary.wiley.com/doi/full/10.1029/2008JA013883 for $f_{c}$ and $f_{s}$ and in https://agupubs.onlinelibrary.wiley.com/doi/10.1029/2005JA011119 for $f_{h}$."
   ]
  },
  {
   "cell_type": "markdown",
   "metadata": {},
   "source": [
    "Core:"
   ]
  },
  {
   "cell_type": "code",
   "execution_count": 13,
   "metadata": {},
   "outputs": [],
   "source": [
    "# Distribution function for a bi-Maxwellellian core distribution with density n [m^-3], temperature kT [eV],\n",
    "# velocity v0 [km/s], direction of flow (th0,ph0) [deg], for a species of mass m [u], charge state q [dimensionless integer],\n",
    "# at energies per charge EperQ [eV/q], look direction (th,ph) [deg]. Returns the value of the distribution function\n",
    "# in units of s^3/m^6 at the velocity (vx,vy,vz) [m/s] - note the different units for velocity.\n",
    "def dist_c(m, q, n, v0, th0, ph0, kT, v, th, ph, delta_c):\n",
    "    v0x = v0*1e3*np.cos(ph0*np.pi/180.0)*np.sin(th0*np.pi/180.0)\n",
    "    v0y = v0*1e3*np.sin(ph0*np.pi/180.0)*np.sin(th0*np.pi/180.0)\n",
    "    v0z = v0*1e3*np.cos(th0*np.pi/180.0)\n",
    "    #v = np.sqrt(2.0*q*EperQ*consts.e/(m*consts.u))\n",
    "    vx = v*np.cos(ph*np.pi/180.0)*np.sin(th*np.pi/180.0)\n",
    "    vy = v*np.sin(ph*np.pi/180.0)*np.sin(th*np.pi/180.0)\n",
    "    vz = v*np.cos(th*np.pi/180.0)\n",
    "    #x = 0.5*m*consts.u*v0*v0*1e6 + EperQ*consts.e*q - m*consts.u*(v0x*vx + v0y*vy + v0z*vz)\n",
    "#x = 0.5*m*consts.u*((v0x-vx)**2 + (v0y-vy)**2 + (v0z-vz)**2)\n",
    "    return (n*((m*consts.u)/(2.0*np.pi*kT*consts.e))**(1.5))*np.exp((-(m*consts.u)/2.0)*(((v**2)/(kT*consts.e))+((v-delta_c)**2)/(kT*consts.e)))\n",
    "\n",
    "# Functions to convert from distribution function to flux units (both differential energy flux and differential number flux)\n",
    "# f in units of s^3 m^-6, EperQ in units of eV/q, m in units of u, and q is an integer\n",
    "dnf_c = lambda f, v, m: f*(v**2)/m\n",
    "def_c = lambda f, v, m: f*(v**4)/(2*m)"
   ]
  },
  {
   "cell_type": "markdown",
   "metadata": {},
   "source": [
    "Halo:"
   ]
  },
  {
   "cell_type": "code",
   "execution_count": 14,
   "metadata": {},
   "outputs": [],
   "source": [
    "# Distribution function for a bi-kappa halo distribution with a kappa paramter if 4 at 1 AU, density n [m^-3], temperature kT [eV],\n",
    "# velocity v0 [km/s], direction of flow (th0,ph0) [deg], for a species of mass m [u], charge state q [dimensionless integer],\n",
    "# at energies per charge EperQ [eV/q], look direction (th,ph) [deg]. Returns the value of the distribution function\n",
    "# in units of s^3/m^6 at the velocity (vx,vy,vz) [m/s] - note the different units for velocity.\n",
    "def dist_h(m, q, n, v0, th0, ph0, kT, v, th, ph, delta_h):\n",
    "    v0x = v0*1e3*np.cos(ph0*np.pi/180.0)*np.sin(th0*np.pi/180.0)\n",
    "    v0y = v0*1e3*np.sin(ph0*np.pi/180.0)*np.sin(th0*np.pi/180.0)\n",
    "    v0z = v0*1e3*np.cos(th0*np.pi/180.0)\n",
    "    #v = np.sqrt(2.0*q*EperQ*consts.e/(m*consts.u))\n",
    "    vx = v*np.cos(ph*np.pi/180.0)*np.sin(th*np.pi/180.0)\n",
    "    vy = v*np.sin(ph*np.pi/180.0)*np.sin(th*np.pi/180.0)\n",
    "    vz = v*np.cos(th*np.pi/180.0)\n",
    "    #x = 0.5*m*consts.u*v0*v0*1e6 + EperQ*consts.e*q - m*consts.u*(v0x*vx + v0y*vy + v0z*vz)\n",
    "    #x = 0.5*m*consts.u*((v0x-vx)**2 + (v0y-vy)**2 + (v0z-vz)**2)\n",
    "    kappa_h = 4.0\n",
    "    gamma_h = scipy.special.gamma(kappa_h)\n",
    "    V = np.sqrt(kT*consts.e*(2*kappa_h-5)/(kappa_h*m*consts.u))\n",
    "    A = n*gamma_h/((scipy.special.gamma(kappa_h-1.5)*(V**3))*(np.pi*kappa_h)**1.5)\n",
    "    return A*(1+(2*(v**2))/(kappa_h*(V**2)))**(-kappa_h)\n",
    "\n",
    "\n",
    "# Functions to convert from distribution function to flux units (both differential energy flux and differential number flux)\n",
    "# f in units of s^3 m^-6, EperQ in units of eV/q, m in units of u, and q is an integer\n",
    "dnf_h = lambda f, v, m: f*(v**2)/m\n",
    "def_h = lambda f, v, m: f*(v**4)/(2*m)"
   ]
  },
  {
   "cell_type": "markdown",
   "metadata": {},
   "source": [
    "Strahl:"
   ]
  },
  {
   "cell_type": "code",
   "execution_count": 15,
   "metadata": {},
   "outputs": [],
   "source": [
    "# Distribution function for a bi-kappa strahl distribution with a kappa paramter if 4 at 1 AU, density n [m^-3], temperature kT [eV],\n",
    "# velocity v0 [km/s], direction of flow (th0,ph0) [deg], for a species of mass m [u], charge state q [dimensionless integer],\n",
    "# at energies per charge EperQ [eV/q], look direction (th,ph) [deg]. Returns the value of the distribution function\n",
    "# in units of s^3/m^6 at the velocity (vx,vy,vz) [m/s] - note the different units for velocity.\n",
    "def dist_s(m, q, n, v0, th0, ph0, kT, v, th, ph, delta_s, D):\n",
    "    v0x = v0*1e3*np.cos(ph0*np.pi/180.0)*np.sin(th0*np.pi/180.0)\n",
    "    v0y = v0*1e3*np.sin(ph0*np.pi/180.0)*np.sin(th0*np.pi/180.0)\n",
    "    v0z = v0*1e3*np.cos(th0*np.pi/180.0)\n",
    "    #v = np.sqrt(2.0*q*EperQ*consts.e/(m*consts.u))\n",
    "    vx = v*np.cos(ph*np.pi/180.0)*np.sin(th*np.pi/180.0)\n",
    "    vy = v*np.sin(ph*np.pi/180.0)*np.sin(th*np.pi/180.0)\n",
    "    vz = v*np.cos(th*np.pi/180.0)\n",
    "    #x = 0.5*m*consts.u*v0*v0*1e6 + EperQ*consts.e*q - m*consts.u*(v0x*vx + v0y*vy + v0z*vz)\n",
    "    #x = 0.5*m*consts.u*((v0x-vx)**2 + (v0y-vy)**2 + (v0z-vz)**2)\n",
    "    kappa_s = 4.0\n",
    "    Theta = 10\n",
    "    \n",
    "    return (2*np.sqrt(Theta)/np.sqrt(Theta+1))*(n*((m*consts.u)/(np.pi*kT*consts.e*(2*kappa_s-3)))**(1.5))*(scipy.special.gamma(kappa_s+1)/scipy.special.gamma(kappa_s-0.5))*(1+(m*consts.u/(2*kappa_s-3))*((v**2)/(kT*consts.e)+D*((v-delta_s)**2)/(kT*consts.e)))**(-kappa_s-1)\n",
    "    \n",
    "# Functions to convert from distribution function to flux units (both differential energy flux and differential number flux)\n",
    "# f in units of s^3 m^-6, EperQ in units of eV/q, m in units of u, and q is an integer\n",
    "dnf_s = lambda f, v, m: f*(v**2)/m\n",
    "def_s = lambda f, v, m: f*(v**4)/(2*m)"
   ]
  },
  {
   "cell_type": "markdown",
   "metadata": {},
   "source": [
    "Generate a solar wind spectrum moving at 450 km/s. We build a distribution before we do this.\n",
    "Assume core density of 10${^8}$ m$^{-3}$ and temperature of 5x10${^5}$ K https://arxiv.org/abs/1603.08392, halo density of 5x10${^6}$ m$^{-3}$ https://agupubs.onlinelibrary.wiley.com/doi/10.1029/2005JA011119 and temperature of 1x10${^6}$ K https://arxiv.org/abs/1603.08392 and strahl density and temperature of 5x10${^6}$ m$^{-3}$ and 1x10${^6}$ K respectively https://agupubs.onlinelibrary.wiley.com/doi/pdf/10.1002/2016JA023656."
   ]
  },
  {
   "cell_type": "code",
   "execution_count": 20,
   "metadata": {},
   "outputs": [
    {
     "data": {
      "image/png": "[encoded data removed]",
      "text/plain": [
       "<Figure size 432x288 with 1 Axes>"
      ]
     },
     "metadata": {},
     "output_type": "display_data"
    }
   ],
   "source": [
    "# Define some parameters of the energy table and geometric/calibration factor.\n",
    "energy_resolution = 0.18\n",
    "num_energy_bins = 64\n",
    "energy_table_lower = np.zeros(num_energy_bins)\n",
    "energy_table_upper = np.zeros(num_energy_bins)\n",
    "energy_table_lower[0] = 1.0\n",
    "energy_table_upper[0] = 1.0*(1+1*energy_resolution)\n",
    "for i in range(1,num_energy_bins):\n",
    "    energy_table_lower[i] = energy_table_upper[i-1]\n",
    "    energy_table_upper[i] = energy_table_lower[i]*(1+1*energy_resolution)\n",
    "energy_table_centre = (energy_table_upper+energy_table_lower)/2.0\n",
    "G = 5e-10\n",
    "me = 0.00054858 #electron mass\n",
    "quantumeff = lambda E, scale=10000: np.exp(-(E/10000)**2)\n",
    "taua = 1.0\n",
    "\n",
    "speeds_c = np.linspace(-15000000,15000000,200)\n",
    "speeds = np.linspace(-15000000,15000000,200)\n",
    "speeds_s = np.linspace(-15000000,15000000,400)\n",
    "\n",
    "E_c = 0.5*me*speeds_c**2\n",
    "E = 0.5*me*speeds**2\n",
    "E_s = 0.5*me*speeds_s**2\n",
    "\n",
    "f_c = dist_c(0.00054858, 1.0, 1e8, 450.0,0.0,0.0, 43.125, speeds_c, 0.0, 0.0, 450000.0)\n",
    "f_h = dist_h(0.00054858, 1.0, 5e6, 450.0,0.0,0.0, 86.25, speeds, 0.0, 0.0, 0.0)\n",
    "f_s0 = dist_s(0.00054858, 1.0, 5e6, 450.0,0.0,0.0, 86.25, np.linspace(-15000000,450000,200), 0.0, 0.0, 450000.0, 10)\n",
    "f_s1 = dist_s(0.00054858, 1.0, 5e6, 450.0,0.0,0.0, 86.25, np.linspace(450000,15000000,200), 0.0, 0.0, 450000.0, 1)\n",
    "f_s = np.append(f_s0,f_s1)\n",
    "\n",
    "plt.semilogy(speeds_c, f_c,'-r', label='Core')\n",
    "plt.semilogy(speeds, f_h,'-b', label='Halo')\n",
    "#plt.semilogy(E_s, f_s,'-g', label='Strahl')\n",
    "\n",
    "#plt.loglog(E_c, def_c(f_c,E_c,0.00054858),'-r', label='core')\n",
    "#plt.loglog(E, def_h(f_h,E,0.00054858),'-b', label='halo')\n",
    "#plt.loglog(E_s, def_s(f_s,speeds_s,0.00054858),'-g', label='strahl')\n",
    "\n",
    "plt.ylim(1e-18,1e-12)\n",
    "plt.xlabel('Energy')\n",
    "plt.ylabel('dEF')\n",
    "plt.legend()\n",
    "plt.show()"
   ]
  },
  {
   "cell_type": "code",
   "execution_count": 7,
   "metadata": {},
   "outputs": [],
   "source": [
    "ctest = [f_c,dist_c(0.00054858, 1.0, 1e8, 450.0,0.0,0.0, 43.125, np.linspace(-14000000,14000000,200), 0.0, 0.0, 0.0),dist_c(0.00054858, 1.0, 1e8, 450.0,0.0,0.0, 43.125, np.linspace(-15000000,14000000,200), 0.0, 0.0, 0.0),dist_c(0.00054858, 1.0, 1e8, 450.0,0.0,0.0, 43.125, np.linspace(-14000000,15000000,200), 0.0, 0.0, 0.0),dist_c(0.00054858, 1.0, 1e8, 450.0,0.0,0.0, 43.125, np.linspace(-13000000,14000000,200), 0.0, 0.0, 0.0),dist_c(0.00054858, 1.0, 1e8, 450.0,0.0,0.0, 43.125, np.linspace(-14000000,13000000,200), 0.0, 0.0, 0.0),dist_c(0.00054858, 1.0, 1e8, 450.0,0.0,0.0, 43.125, np.linspace(-13000000,13000000,200), 0.0, 0.0, 0.0),dist_c(0.00054858, 1.0, 1e8, 450.0,0.0,0.0, 43.125, np.linspace(-14500000,14000000,200), 0.0, 0.0, 0.0),dist_c(0.00054858, 1.0, 1e8, 450.0,0.0,0.0, 43.125, np.linspace(-14000000,14500000,200), 0.0, 0.0, 0.0),dist_c(0.00054858, 1.0, 1e8, 450.0,0.0,0.0, 43.125, np.linspace(-15500000,14000000,200), 0.0, 0.0, 0.0),dist_c(0.00054858, 1.0, 1e8, 450.0,0.0,0.0, 43.125, np.linspace(-15300000,15300000,200), 0.0, 0.0, 0.0),dist_c(0.00054858, 1.0, 1e8, 450.0,0.0,0.0, 43.125, np.linspace(-16000000,16000000,200), 0.0, 0.0, 0.0),dist_c(0.00054858, 1.0, 1e8, 450.0,0.0,0.0, 43.125, np.linspace(-15000000,16000000,200), 0.0, 0.0, 0.0),dist_c(0.00054858, 1.0, 1e8, 450.0,0.0,0.0, 43.125, np.linspace(-14000000,15400000,200), 0.0, 0.0, 0.0)]"
   ]
  },
  {
   "cell_type": "code",
   "execution_count": 98,
   "metadata": {},
   "outputs": [],
   "source": [
    "htest = [f_h,dist_h(0.00054858, 1.0, 5e6, 450.0,0.0,0.0, 86.25, np.linspace(-14000000,14000000,200), 0.0, 0.0, 0.0),dist_h(0.00054858, 1.0, 5e6, 450.0,0.0,0.0, 86.25, np.linspace(-15000000,14000000,200), 0.0, 0.0, 0.0),dist_h(0.00054858, 1.0, 5e6, 450.0,0.0,0.0, 86.25, np.linspace(-14000000,15000000,200), 0.0, 0.0, 0.0),dist_h(0.00054858, 1.0, 5e6, 450.0,0.0,0.0, 86.25, np.linspace(-13000000,14000000,200), 0.0, 0.0, 0.0),dist_h(0.00054858, 1.0, 5e6, 450.0,0.0,0.0, 86.25, np.linspace(-14000000,13000000,200), 0.0, 0.0, 0.0),dist_h(0.00054858, 1.0, 5e6, 450.0,0.0,0.0, 86.25, np.linspace(-13000000,13000000,200), 0.0, 0.0, 0.0),dist_h(0.00054858, 1.0, 5e6, 450.0,0.0,0.0, 86.25, np.linspace(-14500000,14000000,200), 0.0, 0.0, 0.0),dist_h(0.00054858, 1.0, 5e6, 450.0,0.0,0.0, 86.25, np.linspace(-14000000,14500000,200), 0.0, 0.0, 0.0),dist_h(0.00054858, 1.0, 5e6, 450.0,0.0,0.0, 86.25, np.linspace(-15500000,14000000,200), 0.0, 0.0, 0.0),dist_h(0.00054858, 1.0, 5e6, 450.0,0.0,0.0, 86.25, np.linspace(-15300000,15300000,200), 0.0, 0.0, 0.0),dist_h(0.00054858, 1.0, 5e6, 450.0,0.0,0.0, 86.25, np.linspace(-16000000,16000000,200), 0.0, 0.0, 0.0),dist_h(0.00054858, 1.0, 5e6, 450.0,0.0,0.0, 86.25, np.linspace(-15000000,16000000,200), 0.0, 0.0, 0.0),dist_h(0.00054858, 1.0, 5e6, 450.0,0.0,0.0, 86.25, np.linspace(-14000000,15400000,200), 0.0, 0.0, 0.0)]"
   ]
  },
  {
   "cell_type": "code",
   "execution_count": 99,
   "metadata": {},
   "outputs": [],
   "source": [
    "stest = [f_s,dist_s(0.00054858, 1.0, 5e6, 450.0,0.0,0.0, 86.25, np.linspace(-14000000,14000000,200), 0.0, 0.0, 0.0),dist_s(0.00054858, 1.0, 5e6, 450.0,0.0,0.0, 86.25, np.linspace(-15000000,14000000,200), 0.0, 0.0, 0.0),dist_s(0.00054858, 1.0, 5e6, 450.0,0.0,0.0, 86.25, np.linspace(-14000000,15000000,200), 0.0, 0.0, 0.0),dist_s(0.00054858, 1.0, 5e6, 450.0,0.0,0.0, 86.25, np.linspace(-13000000,14000000,200), 0.0, 0.0, 0.0),dist_s(0.00054858, 1.0, 5e6, 450.0,0.0,0.0, 86.25, np.linspace(-14000000,13000000,200), 0.0, 0.0, 0.0),dist_s(0.00054858, 1.0, 5e6, 450.0,0.0,0.0, 86.25, np.linspace(-13000000,13000000,200), 0.0, 0.0, 0.0),dist_s(0.00054858, 1.0, 5e6, 450.0,0.0,0.0, 86.25, np.linspace(-14500000,14000000,200), 0.0, 0.0, 0.0),dist_s(0.00054858, 1.0, 5e6, 450.0,0.0,0.0, 86.25, np.linspace(-14000000,14500000,200), 0.0, 0.0, 0.0),dist_s(0.00054858, 1.0, 5e6, 450.0,0.0,0.0, 86.25, np.linspace(-15500000,14000000,200), 0.0, 0.0, 0.0),dist_s(0.00054858, 1.0, 5e6, 450.0,0.0,0.0, 86.25, np.linspace(-15300000,15300000,200), 0.0, 0.0, 0.0),dist_s(0.00054858, 1.0, 5e6, 450.0,0.0,0.0, 86.25, np.linspace(-16000000,16000000,200), 0.0, 0.0, 0.0),dist_s(0.00054858, 1.0, 5e6, 450.0,0.0,0.0, 86.25, np.linspace(-15000000,16000000,200), 0.0, 0.0, 0.0),dist_s(0.00054858, 1.0, 5e6, 450.0,0.0,0.0, 86.25, np.linspace(-14000000,15400000,200), 0.0, 0.0, 0.0)]"
   ]
  },
  {
   "cell_type": "code",
   "execution_count": 100,
   "metadata": {},
   "outputs": [],
   "source": [
    "vdf = [f_c,f_h,f_s]\n",
    "vtest = [*ctest, *htest, *stest]"
   ]
  },
  {
   "cell_type": "code",
   "execution_count": 101,
   "metadata": {},
   "outputs": [
    {
     "data": {
      "text/plain": [
       "(42, 200)"
      ]
     },
     "execution_count": 101,
     "metadata": {},
     "output_type": "execute_result"
    }
   ],
   "source": [
    "np.shape(vtest)"
   ]
  },
  {
   "cell_type": "code",
   "execution_count": 102,
   "metadata": {},
   "outputs": [],
   "source": [
    "target = [0,0,0,0,0,0,0,0,0,0,0,0,0,0,1,1,1,1,1,1,1,1,1,1,1,1,1,1,2,2,2,2,2,2,2,2,2,2,2,2,2,2] #[core,halo,strahl]"
   ]
  },
  {
   "cell_type": "code",
   "execution_count": 113,
   "metadata": {},
   "outputs": [],
   "source": [
    "from sklearn.svm import SVC\n",
    "from sklearn.neighbors import KNeighborsClassifier\n",
    "from sklearn import metrics\n",
    "from sklearn.model_selection import train_test_split\n",
    "from sklearn.model_selection import cross_val_score\n",
    "clf = SVC()\n",
    "knn = KNeighborsClassifier(n_neighbors=2)"
   ]
  },
  {
   "cell_type": "code",
   "execution_count": 122,
   "metadata": {},
   "outputs": [],
   "source": [
    "clf.fit(vtest,target)\n",
    "vpred = clf.predict(vtest)"
   ]
  },
  {
   "cell_type": "code",
   "execution_count": 123,
   "metadata": {},
   "outputs": [
    {
     "data": {
      "text/plain": [
       "0.3333333333333333"
      ]
     },
     "execution_count": 123,
     "metadata": {},
     "output_type": "execute_result"
    }
   ],
   "source": [
    "metrics.accuracy_score(target,vpred)"
   ]
  },
  {
   "cell_type": "code",
   "execution_count": 116,
   "metadata": {},
   "outputs": [],
   "source": [
    "X_train, X_test, y_train, y_test = train_test_split(vtest, target, random_state=4)"
   ]
  },
  {
   "cell_type": "code",
   "execution_count": 117,
   "metadata": {},
   "outputs": [
    {
     "name": "stdout",
     "output_type": "stream",
     "text": [
      "(31, 200)\n",
      "(11, 200)\n"
     ]
    }
   ],
   "source": [
    "print(np.shape(X_train))\n",
    "print(np.shape(X_test))"
   ]
  },
  {
   "cell_type": "code",
   "execution_count": 118,
   "metadata": {},
   "outputs": [
    {
     "data": {
      "text/plain": [
       "KNeighborsClassifier(algorithm='auto', leaf_size=30, metric='minkowski',\n",
       "           metric_params=None, n_jobs=1, n_neighbors=2, p=2,\n",
       "           weights='uniform')"
      ]
     },
     "execution_count": 118,
     "metadata": {},
     "output_type": "execute_result"
    }
   ],
   "source": [
    "knn.fit(X_train,y_train)"
   ]
  },
  {
   "cell_type": "code",
   "execution_count": 119,
   "metadata": {},
   "outputs": [],
   "source": [
    "y_pred = knn.predict(X_test)"
   ]
  },
  {
   "cell_type": "code",
   "execution_count": 120,
   "metadata": {},
   "outputs": [
    {
     "data": {
      "text/plain": [
       "1.0"
      ]
     },
     "execution_count": 120,
     "metadata": {},
     "output_type": "execute_result"
    }
   ],
   "source": [
    "metrics.accuracy_score(y_test,y_pred)"
   ]
  },
  {
   "cell_type": "code",
   "execution_count": 121,
   "metadata": {},
   "outputs": [
    {
     "name": "stdout",
     "output_type": "stream",
     "text": [
      "1.0\n"
     ]
    }
   ],
   "source": [
    "scores = cross_val_score(knn, vtest, target, cv=4, scoring='accuracy')\n",
    "print(scores.mean())"
   ]
  },
  {
   "cell_type": "code",
   "execution_count": null,
   "metadata": {},
   "outputs": [],
   "source": []
  }
 ],
 "metadata": {
  "kernelspec": {
   "display_name": "Python 3",
   "language": "python",
   "name": "python3"
  },
  "language_info": {
   "codemirror_mode": {
    "name": "ipython",
    "version": 3
   },
   "file_extension": ".py",
   "mimetype": "text/x-python",
   "name": "python",
   "nbconvert_exporter": "python",
   "pygments_lexer": "ipython3",
   "version": "3.6.5"
  }
 },
 "nbformat": 4,
 "nbformat_minor": 2
}
