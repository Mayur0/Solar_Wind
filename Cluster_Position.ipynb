{
 "cells": [
  {
   "cell_type": "code",
   "execution_count": 1,
   "metadata": {},
   "outputs": [],
   "source": [
    "from spacepy import pycdf\n",
    "import numpy as np\n",
    "import matplotlib.pyplot as plt\n",
    "import matplotlib.cm as cm\n",
    "import seaborn as sns\n",
    "from scipy import stats\n",
    "from mpl_toolkits.mplot3d import axes3d\n",
    "import matplotlib\n",
    "import matplotlib.colors as colors\n",
    "from collections import Counter\n",
    "from scipy.optimize import curve_fit"
   ]
  },
  {
   "cell_type": "code",
   "execution_count": 2,
   "metadata": {},
   "outputs": [],
   "source": [
    "cdf = pycdf.CDF('/Users/mayur/PhD/Cluster_data/CL_SP_AUX__20020111_000000_20020420_000000_V150526.cdf')"
   ]
  },
  {
   "cell_type": "code",
   "execution_count": 3,
   "metadata": {},
   "outputs": [
    {
     "name": "stdout",
     "output_type": "stream",
     "text": [
      "0 time_tags__CL_SP_AUX CDF_EPOCH [142560]\n",
      "1 half_interval__CL_SP_AUX CDF_FLOAT [] NRV\n",
      "2 status__CL_SP_AUX CDF_INT4 [142560, 5]\n",
      "3 sc_orbit_num__CL_SP_AUX CDF_FLOAT [142560]\n",
      "4 sc_r_xyz_gse__CL_SP_AUX CDF_FLOAT [142560, 3]\n",
      "5 sc_v_xyz_gse__CL_SP_AUX CDF_FLOAT [142560, 3]\n",
      "6 sc_dr1_xyz_gse__CL_SP_AUX CDF_FLOAT [142560, 3]\n",
      "7 sc_dr2_xyz_gse__CL_SP_AUX CDF_FLOAT [142560, 3]\n",
      "8 sc_dr3_xyz_gse__CL_SP_AUX CDF_FLOAT [142560, 3]\n",
      "9 sc_dr4_xyz_gse__CL_SP_AUX CDF_FLOAT [142560, 3]\n",
      "10 sc_at1_lat__CL_SP_AUX CDF_FLOAT [142560]\n",
      "11 sc_at1_long__CL_SP_AUX CDF_FLOAT [142560]\n",
      "12 sc_at2_lat__CL_SP_AUX CDF_FLOAT [142560]\n",
      "13 sc_at2_long__CL_SP_AUX CDF_FLOAT [142560]\n",
      "14 sc_at3_lat__CL_SP_AUX CDF_FLOAT [142560]\n",
      "15 sc_at3_long__CL_SP_AUX CDF_FLOAT [142560]\n",
      "16 sc_at4_lat__CL_SP_AUX CDF_FLOAT [142560]\n",
      "17 sc_at4_long__CL_SP_AUX CDF_FLOAT [142560]\n",
      "18 sc_config_QG__CL_SP_AUX CDF_FLOAT [142560]\n",
      "19 sc_config_QR__CL_SP_AUX CDF_FLOAT [142560]\n",
      "20 sc_dr_min__CL_SP_AUX CDF_FLOAT [142560]\n",
      "21 sc_dr_max__CL_SP_AUX CDF_FLOAT [142560]\n",
      "22 gse_gsm__CL_SP_AUX CDF_FLOAT [142560]\n",
      "23 dipole_tilt__CL_SP_AUX CDF_FLOAT [142560]\n",
      "24 sc_geom_size__CL_SP_AUX CDF_FLOAT [142560]\n",
      "25 sc_geom_elong__CL_SP_AUX CDF_FLOAT [142560]\n",
      "26 sc_geom_planarity__CL_SP_AUX CDF_FLOAT [142560]\n",
      "27 sc_geom_E_dir_gse__CL_SP_AUX CDF_FLOAT [142560, 3]\n",
      "28 sc_geom_P_nor_gse__CL_SP_AUX CDF_FLOAT [142560, 3]\n",
      "29 status__CL_SP_AUX_LABEL_1 CDF_CHAR*9 [5] NRV\n",
      "30 sc_r_xyz_gse__CL_SP_AUX_REPRESENTATION_1 CDF_CHAR*1 [3] NRV\n",
      "31 sc_r_xyz_gse__CL_SP_AUX_LABEL_1 CDF_CHAR*1 [3] NRV\n",
      "32 sc_v_xyz_gse__CL_SP_AUX_REPRESENTATION_1 CDF_CHAR*1 [3] NRV\n",
      "33 sc_v_xyz_gse__CL_SP_AUX_LABEL_1 CDF_CHAR*2 [3] NRV\n",
      "34 sc_dr1_xyz_gse__CL_SP_AUX_REPRESENTATION_1 CDF_CHAR*1 [3] NRV\n",
      "35 sc_dr1_xyz_gse__CL_SP_AUX_LABEL_1 CDF_CHAR*10 [3] NRV\n",
      "36 sc_dr2_xyz_gse__CL_SP_AUX_REPRESENTATION_1 CDF_CHAR*1 [3] NRV\n",
      "37 sc_dr2_xyz_gse__CL_SP_AUX_LABEL_1 CDF_CHAR*10 [3] NRV\n",
      "38 sc_dr3_xyz_gse__CL_SP_AUX_REPRESENTATION_1 CDF_CHAR*1 [3] NRV\n",
      "39 sc_dr3_xyz_gse__CL_SP_AUX_LABEL_1 CDF_CHAR*10 [3] NRV\n",
      "40 sc_dr4_xyz_gse__CL_SP_AUX_REPRESENTATION_1 CDF_CHAR*1 [3] NRV\n",
      "41 sc_dr4_xyz_gse__CL_SP_AUX_LABEL_1 CDF_CHAR*10 [3] NRV\n",
      "42 sc_geom_E_dir_gse__CL_SP_AUX_REPRESENTATION_1 CDF_CHAR*1 [3] NRV\n",
      "43 sc_geom_E_dir_gse__CL_SP_AUX_LABEL_1 CDF_CHAR*16 [3] NRV\n",
      "44 sc_geom_P_nor_gse__CL_SP_AUX_REPRESENTATION_1 CDF_CHAR*1 [3] NRV\n",
      "45 sc_geom_P_nor_gse__CL_SP_AUX_LABEL_1 CDF_CHAR*15 [3] NRV\n"
     ]
    }
   ],
   "source": [
    "for (i, item) in enumerate(cdf, start=0):\n",
    "    print(i, item, cdf[i])"
   ]
  },
  {
   "cell_type": "code",
   "execution_count": 4,
   "metadata": {},
   "outputs": [],
   "source": [
    "epoch = cdf[0][...]\n",
    "position = cdf[4][...]"
   ]
  },
  {
   "cell_type": "markdown",
   "metadata": {},
   "source": [
    "# Verifying Cluster is in the Pristine Solar Wind"
   ]
  },
  {
   "cell_type": "markdown",
   "metadata": {},
   "source": [
    "#### _Foster, A.C. (Thesis, 2017), Chapter 6.1.2_ ##\n",
    "\n",
    "Earth's bow shock position (Chao et al., 2002):\n",
    "\n",
    "$$ r = r_{0}(\\frac{1 + \\epsilon}{1 + \\epsilon \\cos \\theta})^{\\alpha} $$\n",
    "\n",
    "Dayside:\n",
    "\n",
    "$$ \\theta = \\sin^{-1} (\\frac{\\sqrt{p_{y}^{2}+p_{z}^{2}}}{\\sqrt{p_{x}^{2}+p_{y}^{2}+p_{z}^{2}}}) $$\n",
    "\n",
    "Nightside:\n",
    "\n",
    "$$ \\theta = \\pi - \\sin^{-1} (\\frac{\\sqrt{p_{y}^{2}+p_{z}^{2}}}{\\sqrt{p_{x}^{2}+p_{y}^{2}+p_{z}^{2}}}) $$\n",
    "\n",
    "Spacecraft potition:\n",
    "\n",
    "$$ d = \\sqrt{p_{x}^{2}+p_{y}^{2}+p_{z}^{2}} $$\n",
    "\n",
    "Only include $d > r + BS$\n",
    "\n",
    "$BS = 4R_{E}$"
   ]
  },
  {
   "cell_type": "code",
   "execution_count": 127,
   "metadata": {},
   "outputs": [
    {
     "name": "stdout",
     "output_type": "stream",
     "text": [
      "0.7580145569010709 13.137494179562479\n"
     ]
    }
   ],
   "source": [
    "epsilon = 1.029\n",
    "Bz = -0.35\n",
    "Dp = 2.48\n",
    "beta = 2.08\n",
    "Mms = 6.96\n",
    "a1 = 11.1266\n",
    "a3 = -0.0005\n",
    "a4 = 2.5966\n",
    "a5 = 0.8182\n",
    "a6 = -0.017\n",
    "a7 = -0.0122\n",
    "a8 = 1.3007\n",
    "a9 = -0.0049\n",
    "a10 = -0.0328\n",
    "a11 = 6.047\n",
    "a14 = -0.002\n",
    "a12 = 1.029\n",
    "Re = 6371\n",
    "BS = 4*Re #to ensure we are not magnetically connected to the bow shock \n",
    "\n",
    "alpha = a5*(1+a6*Bz)*(1+a7*Dp)*(1+a10*np.log(1+beta))*(1+a14*Mms)\n",
    "r0 = a1*(1+a3*Bz)*(1+a9*beta)*(1+a4*(((a8-1)*(Mms**2) + 2)/((a8+1)*(Mms**2))))*Dp**(-1/a11)\n",
    "r0 = r0*Re\n",
    "print(alpha, r0/Re)"
   ]
  },
  {
   "cell_type": "code",
   "execution_count": 128,
   "metadata": {},
   "outputs": [],
   "source": [
    "d = np.sqrt(position[:,0]**2 + position[:,1]**2 + position[:,2]**2)\n",
    "\n",
    "theta = []\n",
    "for i in range(len(epoch)):\n",
    "    if position[i,0] > 0:\n",
    "        theta_i = np.arcsin((np.sqrt(position[i,1]**2 + position[i,2]**2))/(np.sqrt(position[i,0]**2 + position[i,1]**2 + position[i,2]**2)))\n",
    "    else:\n",
    "        theta_i = np.pi - np.arcsin((np.sqrt(position[i,1]**2 + position[i,2]**2))/(np.sqrt(position[i,0]**2 + position[i,1]**2 + position[i,2]**2)))\n",
    "    theta.append(theta_i)"
   ]
  },
  {
   "cell_type": "code",
   "execution_count": 129,
   "metadata": {},
   "outputs": [
    {
     "name": "stderr",
     "output_type": "stream",
     "text": [
      "/anaconda3/lib/python3.6/site-packages/ipykernel_launcher.py:1: RuntimeWarning: invalid value encountered in power\n",
      "  \"\"\"Entry point for launching an IPython kernel.\n"
     ]
    }
   ],
   "source": [
    "r = r0*(((1+epsilon)/(1+epsilon*np.cos(theta))))**alpha\n",
    "limit = d-(r+BS)"
   ]
  },
  {
   "cell_type": "code",
   "execution_count": 130,
   "metadata": {},
   "outputs": [
    {
     "name": "stdout",
     "output_type": "stream",
     "text": [
      "Counter({0: 525478, 1: 122})\n",
      "0 2018-02-28 03:32:30 2018-02-28 03:32:30\n",
      "1 2018-03-02 09:12:30 2018-03-02 10:12:30\n",
      "2 2018-03-04 15:22:30 2018-03-04 16:21:30\n"
     ]
    }
   ],
   "source": [
    "outside = []\n",
    "\n",
    "for i in range(len(epoch)):\n",
    "    if limit[i] > 0:\n",
    "        pristine = 1\n",
    "    else:\n",
    "        pristine = 0\n",
    "    outside.append(pristine)\n",
    "    \n",
    "print(Counter(outside))\n",
    "\n",
    "start_times = []\n",
    "end_times = []\n",
    "\n",
    "for i in range(0,len(epoch)):\n",
    "    if outside[i]>outside[i-1]:\n",
    "        start_times.append(epoch[i])\n",
    "    if outside[i]<outside[i-1]:\n",
    "        end_times.append(epoch[i-1])\n",
    "\n",
    "for (i, item) in enumerate(start_times, start=0):\n",
    "    print(i, start_times[i], end_times[i])"
   ]
  },
  {
   "cell_type": "code",
   "execution_count": 38,
   "metadata": {},
   "outputs": [],
   "source": [
    "#Merka et al., 2003: Earth’s bow shock and magnetopause in the case of a field-aligned upstream flow\n",
    "limit_test = (position[:,0]/Re) - (30-(3/250)*(((position[:,1]**2)+position[:,2]**2)/(Re**2))) "
   ]
  },
  {
   "cell_type": "code",
   "execution_count": null,
   "metadata": {},
   "outputs": [],
   "source": []
  }
 ],
 "metadata": {
  "kernelspec": {
   "display_name": "Python 3",
   "language": "python",
   "name": "python3"
  },
  "language_info": {
   "codemirror_mode": {
    "name": "ipython",
    "version": 3
   },
   "file_extension": ".py",
   "mimetype": "text/x-python",
   "name": "python",
   "nbconvert_exporter": "python",
   "pygments_lexer": "ipython3",
   "version": "3.6.5"
  }
 },
 "nbformat": 4,
 "nbformat_minor": 2
}
