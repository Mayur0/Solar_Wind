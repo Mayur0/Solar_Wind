{
 "cells": [
  {
   "cell_type": "code",
   "execution_count": 1,
   "metadata": {},
   "outputs": [],
   "source": [
    "import numpy as np\n",
    "import pandas\n",
    "from requests import get  # to make GET request\n",
    "import tarfile"
   ]
  },
  {
   "cell_type": "code",
   "execution_count": 2,
   "metadata": {},
   "outputs": [],
   "source": [
    "def download(url, params, file_name):\n",
    "    # open in binary mode\n",
    "    with open(file_name, \"wb\") as file:\n",
    "        # get request\n",
    "        response = get(url, params=params)\n",
    "        # write to file\n",
    "        file.write(response.content)\n",
    "            \n",
    "#DATASET_ID Options:\n",
    "#C4_CP_CIS-CODIF_LS_H1_MOMENTS\n",
    "#C2_CP_PEA_PITCH_SPIN_DEFlux\n",
    "\n",
    "myurl = 'https://csa.esac.esa.int/csa/aio/product-action'\n",
    "query_specs = {'DATASET_ID': 'C2_CP_PEA_PITCH_SPIN_DEFlux',\n",
    "                'START_DATE': '2001-01-20T00:27:07Z',\n",
    "                'END_DATE': '2001-01-20T00:37:20Z',\n",
    "                'DELIVERY_FORMAT': 'CDF',\n",
    "                'NON_BROWSER': '1',\n",
    "                'DELIVERY_INTERVAL': 'all',\n",
    "                'CSACOOKIE': '260A526A39095D6837215D6522090E337E51057D281B522F255957603F091D6D2A064F6C2A114673650A526A39095D682A4602350B1D506D6509502F3E03'}\n",
    "\n",
    "\n",
    "download(myurl, query_specs, 'filename.tar.gz')\n",
    "\n",
    "with tarfile.open(\"filename.tar.gz\") as tar:\n",
    "    tarname = tar.getnames()\n",
    "    tar.extractall()"
   ]
  },
  {
   "cell_type": "code",
   "execution_count": null,
   "metadata": {},
   "outputs": [],
   "source": []
  }
 ],
 "metadata": {
  "kernelspec": {
   "display_name": "Python 3",
   "language": "python",
   "name": "python3"
  },
  "language_info": {
   "codemirror_mode": {
    "name": "ipython",
    "version": 3
   },
   "file_extension": ".py",
   "mimetype": "text/x-python",
   "name": "python",
   "nbconvert_exporter": "python",
   "pygments_lexer": "ipython3",
   "version": "3.6.5"
  }
 },
 "nbformat": 4,
 "nbformat_minor": 2
}
